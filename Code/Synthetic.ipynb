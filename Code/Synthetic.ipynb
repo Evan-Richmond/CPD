{
 "cells": [
  {
   "cell_type": "code",
   "execution_count": 1,
   "metadata": {},
   "outputs": [],
   "source": [
    "# Install densratio\n",
    "# git clone https://github.com/hoxo-m/densratio_py.git"
   ]
  },
  {
   "cell_type": "code",
   "execution_count": 2,
   "metadata": {},
   "outputs": [],
   "source": [
    "%matplotlib inline\n",
    "import matplotlib.pyplot as plt\n",
    "import numpy as np\n",
    "import pandas as pd\n",
    "from tqdm import tqdm_notebook\n",
    "from copy import deepcopy\n",
    "\n",
    "import algorithms\n",
    "import classifiers"
   ]
  },
  {
   "cell_type": "markdown",
   "metadata": {},
   "source": [
    "# Dataset"
   ]
  },
  {
   "cell_type": "code",
   "execution_count": 3,
   "metadata": {},
   "outputs": [],
   "source": [
    "data_option = \"dataset1\""
   ]
  },
  {
   "cell_type": "markdown",
   "metadata": {},
   "source": [
    "## Data generation"
   ]
  },
  {
   "cell_type": "code",
   "execution_count": 4,
   "metadata": {},
   "outputs": [],
   "source": [
    "def dataset2(period=200, N_tot=1000):\n",
    "    mu = 0\n",
    "    sigma = 1.\n",
    "    N = 1\n",
    "    \n",
    "    T = [0, 1]\n",
    "    X = [np.random.normal(mu, sigma, 1)[0], np.random.normal(mu, sigma, 1)[0]]\n",
    "    \n",
    "    for i in range(2, N_tot):\n",
    "        if i % period == 0:\n",
    "            N += 1\n",
    "        if N % 2 == 1:\n",
    "            sigma = 1\n",
    "        if N % 2 == 0:\n",
    "            sigma = 1 + 0.25 * N#np.log(np.e + N / 1.)\n",
    "        T += [i]\n",
    "        ax = 0.6 * X[i-1] - 0.5 * X[i-2] + np.random.normal(mu, sigma, 1)[0]\n",
    "        X += [ax] \n",
    "    return np.array(X).reshape(-1, 1)\n",
    "\n",
    "\n",
    "def dataset1(period=200, N_tot=1000):\n",
    "    mu = 0\n",
    "    sigma = 1.\n",
    "    N = 1\n",
    "    \n",
    "    T = [0, 1]\n",
    "    X = [np.random.normal(mu, sigma, 1)[0], np.random.normal(mu, sigma, 1)[0]]\n",
    "    \n",
    "    for i in range(2, N_tot):\n",
    "        if i % period == 0:\n",
    "            N += 1\n",
    "            mu += 0.5 * N\n",
    "        T += [i]\n",
    "        ax = 0.6 * X[i-1] - 0.5 * X[i-2] + np.random.normal(mu, sigma, 1)[0]\n",
    "        X += [ax]\n",
    "    return np.array(X).reshape(-1, 1)\n",
    "\n",
    "\n",
    "def dataset3(period=200, N_tot=1000):\n",
    "    mu = 0\n",
    "    sigma = 1.\n",
    "    N = 1\n",
    "    \n",
    "    T = [0, 1]\n",
    "    X = [np.random.multivariate_normal(mean=[0, 0], cov=[[1, -0.8], [-0.8, 1]], size=1)[0], \n",
    "         np.random.multivariate_normal(mean=[0, 0], cov=[[1, 0.8],  [ 0.8, 1]], size=1)[0]]\n",
    "    \n",
    "    for i in range(2, N_tot):\n",
    "        if i % period == 0:\n",
    "            N += 1\n",
    "        if N % 2 == 1:\n",
    "            cov = [[1, -0.8-0.002*N], [-0.8-0.002*N, 1]]\n",
    "            #cov = [[1, -0.95], [-0.95, 1]]\n",
    "        if N % 2 == 0:\n",
    "            cov = [[1, 0.8+0.002*N], [0.8+0.002*N, 1]]\n",
    "            #cov = [[1, 0.95], [0.95, 1]]\n",
    "        T += [i]\n",
    "        ax = np.random.multivariate_normal(mean=[0, 0], cov=cov, size=1)[0]\n",
    "        X += [ax]\n",
    "    return np.array(X)\n",
    "\n",
    "\n",
    "def dataset4(period=200, N_tot=1000):\n",
    "    mu = 0\n",
    "    sigma = 0.8\n",
    "    w = 1.\n",
    "    N = 1\n",
    "    \n",
    "    T = [0, 1]\n",
    "    X = [np.sin(w * 0) + np.random.normal(0, 0.5, 1), \n",
    "         np.sin(w * 1) + np.random.normal(0, 0.5, 1)]\n",
    "    \n",
    "    for i in range(2, N_tot):\n",
    "        if i % period == 0:\n",
    "            N += 1\n",
    "            w = w * np.log(np.e + 0.5 * N)\n",
    "        T += [i]\n",
    "        ax = np.sin(w * i) + np.random.normal(0, 0.5, 1)\n",
    "        X += [ax]\n",
    "    return np.array(X).reshape(-1, 1)"
   ]
  },
  {
   "cell_type": "code",
   "execution_count": 5,
   "metadata": {},
   "outputs": [],
   "source": [
    "if data_option == \"dataset1\":\n",
    "    N_tot = 20000\n",
    "    X = [dataset1(period=2000, N_tot=N_tot) for i in range(10)]\n",
    "    X = np.vstack(tuple(X))\n",
    "    T = np.arange(len(X))\n",
    "    R1 = 5 * np.random.normal(0, 1, len(X)).reshape(-1, 1)\n",
    "    X = np.hstack((X, R1))\n",
    "\n",
    "if data_option == \"dataset2\":\n",
    "    N_tot = 20000\n",
    "    X = [dataset2(period=2000, N_tot=N_tot) for i in range(10)]\n",
    "    X = np.vstack(tuple(X))\n",
    "    T = np.arange(len(X))\n",
    "    R1 = 5 * np.random.normal(0, 1, len(X)).reshape(-1, 1)\n",
    "    X = np.hstack((X, R1))\n",
    "    \n",
    "if data_option == \"dataset3\":\n",
    "    N_tot = 20000\n",
    "    X = [dataset3(period=2000, N_tot=N_tot) for i in range(1)]\n",
    "    X = np.vstack(tuple(X))\n",
    "    T = np.arange(len(X))\n",
    "    R1 = 5 * np.random.normal(0, 1, len(X)).reshape(-1, 1)\n",
    "    #X = np.hstack((X, R1))\n",
    "    \n",
    "if data_option == \"dataset4\":\n",
    "    N_tot = 20000\n",
    "    X = [dataset4(period=2000, N_tot=N_tot) for i in range(10)]\n",
    "    X = np.vstack(tuple(X))\n",
    "    T = np.arange(len(X))\n",
    "    R1 = 1 * np.random.normal(0, 1, len(X)).reshape(-1, 1)\n",
    "    #X = np.hstack((X, R1))"
   ]
  },
  {
   "cell_type": "code",
   "execution_count": 6,
   "metadata": {},
   "outputs": [
    {
     "data": {
      "image/png": "[encoded data removed]",
      "text/plain": [
       "<Figure size 1200x300 with 1 Axes>"
      ]
     },
     "metadata": {},
     "output_type": "display_data"
    }
   ],
   "source": [
    "# Display test sample\n",
    "plt.figure(figsize=(12, 3.))\n",
    "plt.plot(T, X[:, 0], linewidth=2)\n",
    "plt.xlabel('Timestamp', size=14)\n",
    "plt.ylabel('X', size=14)\n",
    "plt.grid(True)\n",
    "plt.title('Test sample', size=14)\n",
    "plt.tight_layout()\n",
    "plt.show()"
   ]
  },
  {
   "cell_type": "markdown",
   "metadata": {},
   "source": [
    "## Change point detection"
   ]
  },
  {
   "cell_type": "code",
   "execution_count": 7,
   "metadata": {},
   "outputs": [],
   "source": [
    "from catboost import CatBoostClassifier\n",
    "from sklearn.linear_model import LogisticRegression\n",
    "from sklearn.ensemble import RandomForestClassifier\n",
    "from sklearn.tree import DecisionTreeClassifier\n",
    "from sklearn.discriminant_analysis import QuadraticDiscriminantAnalysis\n",
    "import xgboost as xgb"
   ]
  },
  {
   "cell_type": "code",
   "execution_count": 8,
   "metadata": {},
   "outputs": [],
   "source": [
    "periods = 10\n",
    "window_size = 500\n",
    "step = 10\n",
    "n_runs = 1\n",
    "\n",
    "\n",
    "rulsif = algorithms.ChangePointDetectionRuLSIF(alpha=0.1, \n",
    "                                               sigma_range=[10.], # [0.1, 1., 10.], \n",
    "                                               lambda_range=[0.01], # [0.01, 0.1, 1.], \n",
    "                                               kernel_num=10,\n",
    "                                               metric=\"PE\", \n",
    "                                               periods=periods, \n",
    "                                               window_size=window_size, \n",
    "                                               step=step, \n",
    "                                               n_runs=1)\n",
    "\n",
    "\n",
    "\n",
    "nn_base_classifier = classifiers.FitMyNN(n_hidden=10, dropout=0., n_epochs=20, batch_size=32, lr=0.1, \n",
    "                                         lam=0.0, optimizer=\"Adam\", debug=0)\n",
    "nn_classifier = algorithms.ChangePointDetectionClassifier(base_classifier=nn_base_classifier, \n",
    "                                                          metric=\"KL_sym\", \n",
    "                                                          periods=periods, \n",
    "                                                          window_size=window_size, \n",
    "                                                          step=step, \n",
    "                                                          n_runs=1)\n",
    "\n",
    "\n",
    "#gbdt_base_classifier = CatBoostClassifier(iterations=100, learning_rate=0.1, max_depth=6)\n",
    "gbdt_base_classifier = xgb.XGBClassifier(max_depth=6, learning_rate=0.1, n_estimators=100, verbosity=0, subsample=0.8)\n",
    "gbdt_classifier = algorithms.ChangePointDetectionClassifier(base_classifier=gbdt_base_classifier, \n",
    "                                                            metric=\"KL_sym\", \n",
    "                                                            periods=periods, \n",
    "                                                            window_size=window_size, \n",
    "                                                            step=step, \n",
    "                                                            n_runs=1)\n",
    "\n",
    "\n",
    "qda_base_classifier = QuadraticDiscriminantAnalysis()\n",
    "qda_classifier = algorithms.ChangePointDetectionClassifier(base_classifier=qda_base_classifier, \n",
    "                                                          metric=\"KL_sym\", \n",
    "                                                          periods=periods, \n",
    "                                                          window_size=window_size, \n",
    "                                                          step=step, \n",
    "                                                          n_runs=1)\n",
    "\n",
    "\n",
    "base_classifier2 = classifiers.FitMyNN_RuLSIF(n_hidden=10, dropout=0., n_epochs=20, batch_size=32, lr=0.1, \n",
    "                                              lam=0., alpha=0.1, optimizer=\"Adam\", debug=0)\n",
    "nn_rulsif = algorithms.ChangePointDetectionClassifier_RuLSIF(base_classifier=base_classifier2, metric=\"PE\", \n",
    "                                                             periods=periods, \n",
    "                                                             window_size=window_size, \n",
    "                                                             step=step, \n",
    "                                                             n_runs=1)\n",
    "\n",
    "\n",
    "\n",
    "base_classifier21 = classifiers.GBDTRulSIF(n_estimators=100, learning_rate=0.2, sample_frac=0.8, alpha=0.1, \n",
    "                                           max_depth=4, min_samples_leaf=1)\n",
    "gbdt_rulsif = algorithms.ChangePointDetectionClassifier_RuLSIF(base_classifier=base_classifier21, metric=\"PE\", \n",
    "                                                               periods=periods, \n",
    "                                                               window_size=window_size, \n",
    "                                                               step=step, \n",
    "                                                               n_runs=1)"
   ]
  },
  {
   "cell_type": "code",
   "execution_count": 9,
   "metadata": {},
   "outputs": [
    {
     "name": "stdout",
     "output_type": "stream",
     "text": [
      "RuLSIF\n"
     ]
    },
    {
     "ename": "KeyboardInterrupt",
     "evalue": "",
     "output_type": "error",
     "traceback": [
      "\u001b[1;31m---------------------------------------------------------------------------\u001b[0m",
      "\u001b[1;31mKeyboardInterrupt\u001b[0m                         Traceback (most recent call last)",
      "File \u001b[1;32m<timed exec>:1\u001b[0m\n",
      "File \u001b[1;32mc:\\Users\\evanr\\OneDrive\\School doc\\DATA-4961-2-01\\Code\\Code\\Code\\algorithms.py:140\u001b[0m, in \u001b[0;36mChangePointDetectionRuLSIF.predict\u001b[1;34m(self, X)\u001b[0m\n\u001b[0;32m    138\u001b[0m T_scores \u001b[38;5;241m=\u001b[39m []\n\u001b[0;32m    139\u001b[0m iters \u001b[38;5;241m=\u001b[39m \u001b[38;5;28mrange\u001b[39m(\u001b[38;5;241m0\u001b[39m, \u001b[38;5;28mlen\u001b[39m(reference), \u001b[38;5;28mself\u001b[39m\u001b[38;5;241m.\u001b[39mstep)\n\u001b[1;32m--> 140\u001b[0m scores \u001b[38;5;241m=\u001b[39m \u001b[43mParallel\u001b[49m\u001b[43m(\u001b[49m\u001b[43mn_jobs\u001b[49m\u001b[38;5;241;43m=\u001b[39;49m\u001b[38;5;241;43m-\u001b[39;49m\u001b[38;5;241;43m1\u001b[39;49m\u001b[43m)\u001b[49m\u001b[43m(\u001b[49m\u001b[43mdelayed\u001b[49m\u001b[43m(\u001b[49m\u001b[38;5;28;43mself\u001b[39;49m\u001b[38;5;241;43m.\u001b[39;49m\u001b[43mreference_test_predict_n_times\u001b[49m\u001b[43m)\u001b[49m\u001b[43m(\u001b[49m\u001b[43mreference\u001b[49m\u001b[43m[\u001b[49m\u001b[43mi\u001b[49m\u001b[43m]\u001b[49m\u001b[43m,\u001b[49m\u001b[43m \u001b[49m\u001b[43mtest\u001b[49m\u001b[43m[\u001b[49m\u001b[43mi\u001b[49m\u001b[43m]\u001b[49m\u001b[43m)\u001b[49m\u001b[43m \u001b[49m\u001b[38;5;28;43;01mfor\u001b[39;49;00m\u001b[43m \u001b[49m\u001b[43mi\u001b[49m\u001b[43m \u001b[49m\u001b[38;5;129;43;01min\u001b[39;49;00m\u001b[43m \u001b[49m\u001b[43miters\u001b[49m\u001b[43m)\u001b[49m\n\u001b[0;32m    141\u001b[0m T_scores \u001b[38;5;241m=\u001b[39m [T[i] \u001b[38;5;28;01mfor\u001b[39;00m i \u001b[38;5;129;01min\u001b[39;00m iters]\n\u001b[0;32m    142\u001b[0m \u001b[38;5;28;01mreturn\u001b[39;00m np\u001b[38;5;241m.\u001b[39marray(T_scores), np\u001b[38;5;241m.\u001b[39marray(scores)\n",
      "File \u001b[1;32m~\\AppData\\Roaming\\Python\\Python311\\site-packages\\joblib\\parallel.py:1952\u001b[0m, in \u001b[0;36mParallel.__call__\u001b[1;34m(self, iterable)\u001b[0m\n\u001b[0;32m   1946\u001b[0m \u001b[38;5;66;03m# The first item from the output is blank, but it makes the interpreter\u001b[39;00m\n\u001b[0;32m   1947\u001b[0m \u001b[38;5;66;03m# progress until it enters the Try/Except block of the generator and\u001b[39;00m\n\u001b[0;32m   1948\u001b[0m \u001b[38;5;66;03m# reach the first `yield` statement. This starts the aynchronous\u001b[39;00m\n\u001b[0;32m   1949\u001b[0m \u001b[38;5;66;03m# dispatch of the tasks to the workers.\u001b[39;00m\n\u001b[0;32m   1950\u001b[0m \u001b[38;5;28mnext\u001b[39m(output)\n\u001b[1;32m-> 1952\u001b[0m \u001b[38;5;28;01mreturn\u001b[39;00m output \u001b[38;5;28;01mif\u001b[39;00m \u001b[38;5;28mself\u001b[39m\u001b[38;5;241m.\u001b[39mreturn_generator \u001b[38;5;28;01melse\u001b[39;00m \u001b[38;5;28;43mlist\u001b[39;49m\u001b[43m(\u001b[49m\u001b[43moutput\u001b[49m\u001b[43m)\u001b[49m\n",
      "File \u001b[1;32m~\\AppData\\Roaming\\Python\\Python311\\site-packages\\joblib\\parallel.py:1595\u001b[0m, in \u001b[0;36mParallel._get_outputs\u001b[1;34m(self, iterator, pre_dispatch)\u001b[0m\n\u001b[0;32m   1592\u001b[0m     \u001b[38;5;28;01myield\u001b[39;00m\n\u001b[0;32m   1594\u001b[0m     \u001b[38;5;28;01mwith\u001b[39;00m \u001b[38;5;28mself\u001b[39m\u001b[38;5;241m.\u001b[39m_backend\u001b[38;5;241m.\u001b[39mretrieval_context():\n\u001b[1;32m-> 1595\u001b[0m         \u001b[38;5;28;01myield from\u001b[39;00m \u001b[38;5;28mself\u001b[39m\u001b[38;5;241m.\u001b[39m_retrieve()\n\u001b[0;32m   1597\u001b[0m \u001b[38;5;28;01mexcept\u001b[39;00m \u001b[38;5;167;01mGeneratorExit\u001b[39;00m:\n\u001b[0;32m   1598\u001b[0m     \u001b[38;5;66;03m# The generator has been garbage collected before being fully\u001b[39;00m\n\u001b[0;32m   1599\u001b[0m     \u001b[38;5;66;03m# consumed. This aborts the remaining tasks if possible and warn\u001b[39;00m\n\u001b[0;32m   1600\u001b[0m     \u001b[38;5;66;03m# the user if necessary.\u001b[39;00m\n\u001b[0;32m   1601\u001b[0m     \u001b[38;5;28mself\u001b[39m\u001b[38;5;241m.\u001b[39m_exception \u001b[38;5;241m=\u001b[39m \u001b[38;5;28;01mTrue\u001b[39;00m\n",
      "File \u001b[1;32m~\\AppData\\Roaming\\Python\\Python311\\site-packages\\joblib\\parallel.py:1707\u001b[0m, in \u001b[0;36mParallel._retrieve\u001b[1;34m(self)\u001b[0m\n\u001b[0;32m   1702\u001b[0m \u001b[38;5;66;03m# If the next job is not ready for retrieval yet, we just wait for\u001b[39;00m\n\u001b[0;32m   1703\u001b[0m \u001b[38;5;66;03m# async callbacks to progress.\u001b[39;00m\n\u001b[0;32m   1704\u001b[0m \u001b[38;5;28;01mif\u001b[39;00m ((\u001b[38;5;28mlen\u001b[39m(\u001b[38;5;28mself\u001b[39m\u001b[38;5;241m.\u001b[39m_jobs) \u001b[38;5;241m==\u001b[39m \u001b[38;5;241m0\u001b[39m) \u001b[38;5;129;01mor\u001b[39;00m\n\u001b[0;32m   1705\u001b[0m     (\u001b[38;5;28mself\u001b[39m\u001b[38;5;241m.\u001b[39m_jobs[\u001b[38;5;241m0\u001b[39m]\u001b[38;5;241m.\u001b[39mget_status(\n\u001b[0;32m   1706\u001b[0m         timeout\u001b[38;5;241m=\u001b[39m\u001b[38;5;28mself\u001b[39m\u001b[38;5;241m.\u001b[39mtimeout) \u001b[38;5;241m==\u001b[39m TASK_PENDING)):\n\u001b[1;32m-> 1707\u001b[0m     time\u001b[38;5;241m.\u001b[39msleep(\u001b[38;5;241m0.01\u001b[39m)\n\u001b[0;32m   1708\u001b[0m     \u001b[38;5;28;01mcontinue\u001b[39;00m\n\u001b[0;32m   1710\u001b[0m \u001b[38;5;66;03m# We need to be careful: the job list can be filling up as\u001b[39;00m\n\u001b[0;32m   1711\u001b[0m \u001b[38;5;66;03m# we empty it and Python list are not thread-safe by\u001b[39;00m\n\u001b[0;32m   1712\u001b[0m \u001b[38;5;66;03m# default hence the use of the lock\u001b[39;00m\n",
      "\u001b[1;31mKeyboardInterrupt\u001b[0m: "
     ]
    },
    {
     "name": "stdout",
     "output_type": "stream",
     "text": [
      "NN\n"
     ]
    }
   ],
   "source": [
    "print('RuLSIF')\n",
    "%time T_score_rulsif, score_rulsif = deepcopy(rulsif).predict(X)\n",
    "\n",
    "print('NN')\n",
    "%time T_score_nn_classifier, score_nn_classifier = deepcopy(nn_classifier).predict(X)\n",
    "\n",
    "print('QDA')\n",
    "%time T_score_qda_classifier, score_qda_classifier = deepcopy(qda_classifier).predict(X)\n",
    "\n",
    "print('GBDT')\n",
    "%time T_score_gbdt_classifier, score_gbdt_classifier = deepcopy(gbdt_classifier).predict(X)\n",
    "\n",
    "print('NN-RuLSIF')\n",
    "%time T_score_nn_rulsif, score_nn_rulsif = deepcopy(nn_rulsif).predict(X)\n",
    "\n",
    "print('GBDT-RuLSIF')\n",
    "%time T_score_gbdt_rulsif, score_gbdt_rulsif = deepcopy(gbdt_rulsif).predict(X)"
   ]
  },
  {
   "cell_type": "markdown",
   "metadata": {},
   "source": [
    "## Visualization"
   ]
  },
  {
   "cell_type": "code",
   "execution_count": null,
   "metadata": {},
   "outputs": [],
   "source": [
    "def get_label(T, period=2000, window_size=500):\n",
    "    S = np.zeros(len(T))\n",
    "    S[(T % period < 2 * window_size) & (T // period > 0)] = 1\n",
    "    return S\n",
    "\n",
    "def new_score(score):\n",
    "    score_new = [score[0]]\n",
    "    for i in range(1, len(score)):\n",
    "        score_new += [max(0, score_new[-1] + score[i])]\n",
    "    return np.array(score_new)"
   ]
  },
  {
   "cell_type": "code",
   "execution_count": null,
   "metadata": {},
   "outputs": [],
   "source": [
    "score_rulsif = np.nan_to_num(score_rulsif)\n",
    "score_nn_classifier = np.nan_to_num(score_nn_classifier)\n",
    "score_gbdt_classifier = np.nan_to_num(score_gbdt_classifier)\n",
    "score_qda_classifier = np.nan_to_num(score_qda_classifier)\n",
    "score_nn_rulsif = np.nan_to_num(score_nn_rulsif)\n",
    "score_gbdt_rulsif = np.nan_to_num(score_gbdt_rulsif)"
   ]
  },
  {
   "cell_type": "code",
   "execution_count": null,
   "metadata": {},
   "outputs": [],
   "source": [
    "S = get_label(T, period=2000, window_size=500)"
   ]
  },
  {
   "cell_type": "markdown",
   "metadata": {},
   "source": [
    "## Saving"
   ]
  },
  {
   "cell_type": "code",
   "execution_count": null,
   "metadata": {},
   "outputs": [],
   "source": [
    "# Save data\n",
    "df = pd.DataFrame()\n",
    "df['T'] = T\n",
    "df['S'] = S\n",
    "for i in range(X.shape[1]):\n",
    "    df[\"X\"+str(i)] = X[:, i]\n",
    "df.to_csv(\"results/\"+data_option+\"_data.csv\", index=False)\n",
    "\n",
    "# Save models outputs\n",
    "df = pd.DataFrame()\n",
    "df['T'] = T_score_rulsif\n",
    "df['S'] = S[T_score_rulsif]\n",
    "df['Score'] = score_rulsif\n",
    "df.to_csv(\"results/\"+data_option+\"_RuLSIF.csv\", index=False)\n",
    "\n",
    "df = pd.DataFrame()\n",
    "df['T'] = T_score_nn_classifier\n",
    "df['S'] = S[T_score_nn_classifier]\n",
    "df['Score'] = score_nn_classifier\n",
    "df.to_csv(\"results/\"+data_option+\"_NN.csv\", index=False)\n",
    "\n",
    "df = pd.DataFrame()\n",
    "df['T'] = T_score_gbdt_classifier\n",
    "df['S'] = S[T_score_gbdt_classifier]\n",
    "df['Score'] = score_gbdt_classifier\n",
    "df.to_csv(\"results/\"+data_option+\"_GBDT.csv\", index=False)\n",
    "\n",
    "df = pd.DataFrame()\n",
    "df['T'] = T_score_qda_classifier\n",
    "df['S'] = S[T_score_qda_classifier]\n",
    "df['Score'] = score_qda_classifier\n",
    "df.to_csv(\"results/\"+data_option+\"_QDA.csv\", index=False)\n",
    "\n",
    "df = pd.DataFrame()\n",
    "df['T'] = T_score_nn_rulsif\n",
    "df['S'] = S[T_score_nn_rulsif]\n",
    "df['Score'] = score_nn_rulsif\n",
    "df.to_csv(\"results/\"+data_option+\"_NN_RuLSIF.csv\", index=False)\n",
    "\n",
    "df = pd.DataFrame()\n",
    "df['T'] = T_score_gbdt_rulsif\n",
    "df['S'] = S[T_score_gbdt_rulsif]\n",
    "df['Score'] = score_gbdt_rulsif\n",
    "df.to_csv(\"results/\"+data_option+\"_GBDT_RuLSIF.csv\", index=False)"
   ]
  },
  {
   "cell_type": "code",
   "execution_count": null,
   "metadata": {},
   "outputs": [],
   "source": []
  },
  {
   "cell_type": "code",
   "execution_count": null,
   "metadata": {},
   "outputs": [],
   "source": [
    "# Display test sample\n",
    "plt.figure(figsize=(12, 3.))\n",
    "plt.plot(T, X, linewidth=2)\n",
    "plt.xlabel('Timestamp', size=14)\n",
    "plt.ylabel('X', size=14)\n",
    "plt.grid(True)\n",
    "plt.title('Test sample', size=14)\n",
    "plt.tight_layout()\n",
    "plt.show()\n",
    "\n",
    "\n",
    "# Display test sample\n",
    "plt.figure(figsize=(12, 3.))\n",
    "plt.plot(T_score_rulsif, score_rulsif, linewidth=3, label=\"RuLSIF\")\n",
    "plt.plot(T_score_nn_classifier, score_nn_classifier, linewidth=3, label=\"NN\")\n",
    "plt.plot(T_score_gbdt_classifier, score_gbdt_classifier, linewidth=3, label=\"GBDT\")\n",
    "plt.plot(T_score_qda_classifier, score_qda_classifier, linewidth=3, label=\"QDA\")\n",
    "plt.plot(T_score_nn_rulsif, score_nn_rulsif, linewidth=3, label=\"NN-RuLSIF\")\n",
    "plt.plot(T_score_gbdt_rulsif, score_gbdt_rulsif, linewidth=3, label=\"GBDT-RuLSIF\")\n",
    "\n",
    "plt.xlabel('Timestamp', size=14)\n",
    "plt.ylabel('X', size=14)\n",
    "plt.grid(True)\n",
    "plt.title('Change point detection score', size=14)\n",
    "plt.legend(loc='best')\n",
    "plt.tight_layout()\n",
    "#plt.ylim(-0.2, 10.)\n",
    "plt.show()"
   ]
  },
  {
   "cell_type": "code",
   "execution_count": null,
   "metadata": {},
   "outputs": [],
   "source": [
    "# Display test sample\n",
    "plt.figure(figsize=(12, 3.))\n",
    "plt.plot(T, X[:, 0], linewidth=2)\n",
    "plt.plot(T, S, linewidth=2)\n",
    "plt.xlabel('Timestamp', size=14)\n",
    "plt.ylabel('X', size=14)\n",
    "plt.grid(True)\n",
    "plt.title('Test sample', size=14)\n",
    "plt.tight_layout()\n",
    "plt.show()"
   ]
  },
  {
   "cell_type": "code",
   "execution_count": null,
   "metadata": {},
   "outputs": [],
   "source": [
    "from sklearn.metrics import roc_curve, roc_auc_score\n",
    "\n",
    "fpr, tpr, _ = roc_curve(S[T_score_rulsif], score_rulsif)\n",
    "auc = roc_auc_score(S[T_score_rulsif], score_rulsif)\n",
    "plt.plot(fpr, tpr, label='RuLSIF', linewidth=3)\n",
    "print(\"RuLSIF: \", auc)\n",
    "\n",
    "fpr, tpr, _ = roc_curve(S[T_score_nn_classifier], score_nn_classifier)\n",
    "auc = roc_auc_score(S[T_score_nn_classifier], score_nn_classifier)\n",
    "plt.plot(fpr, tpr, label='NN', linewidth=3)\n",
    "print(\"NN: \", auc)\n",
    "\n",
    "fpr, tpr, _ = roc_curve(S[T_score_qda_classifier], score_qda_classifier)\n",
    "auc = roc_auc_score(S[T_score_qda_classifier], score_qda_classifier)\n",
    "plt.plot(fpr, tpr, label='QDA', linewidth=3)\n",
    "print(\"QDA: \", auc)\n",
    "\n",
    "fpr, tpr, _ = roc_curve(S[T_score_gbdt_classifier], score_gbdt_classifier)\n",
    "auc = roc_auc_score(S[T_score_gbdt_classifier], score_gbdt_classifier)\n",
    "plt.plot(fpr, tpr, label='GBDT', linewidth=3)\n",
    "print(\"GBDT: \", auc)\n",
    "\n",
    "fpr, tpr, _ = roc_curve(S[T_score_nn_rulsif], score_nn_rulsif)\n",
    "auc = roc_auc_score(S[T_score_nn_rulsif], score_nn_rulsif)\n",
    "plt.plot(fpr, tpr, label='NN-RuLSIF', linewidth=3)\n",
    "print(\"NN-RuLSIF: \", auc)\n",
    "\n",
    "fpr, tpr, _ = roc_curve(S[T_score_gbdt_rulsif], score_gbdt_rulsif)\n",
    "auc = roc_auc_score(S[T_score_gbdt_rulsif], score_gbdt_rulsif)\n",
    "plt.plot(fpr, tpr, label='GBDT-RuLSIF', linewidth=3)\n",
    "print(\"GBDT-RuLSIF: \", auc)\n",
    "\n",
    "\n",
    "plt.legend(loc='best')\n",
    "#plt.ylim(0.5, 1.)\n",
    "plt.show()"
   ]
  },
  {
   "cell_type": "code",
   "execution_count": null,
   "metadata": {},
   "outputs": [],
   "source": []
  },
  {
   "cell_type": "code",
   "execution_count": null,
   "metadata": {},
   "outputs": [],
   "source": []
  },
  {
   "cell_type": "code",
   "execution_count": null,
   "metadata": {},
   "outputs": [],
   "source": []
  },
  {
   "cell_type": "code",
   "execution_count": null,
   "metadata": {},
   "outputs": [],
   "source": []
  },
  {
   "cell_type": "code",
   "execution_count": null,
   "metadata": {},
   "outputs": [],
   "source": []
  },
  {
   "cell_type": "code",
   "execution_count": null,
   "metadata": {},
   "outputs": [],
   "source": []
  }
 ],
 "metadata": {
  "kernelspec": {
   "display_name": "Python 3",
   "language": "python",
   "name": "python3"
  },
  "language_info": {
   "codemirror_mode": {
    "name": "ipython",
    "version": 3
   },
   "file_extension": ".py",
   "mimetype": "text/x-python",
   "name": "python",
   "nbconvert_exporter": "python",
   "pygments_lexer": "ipython3",
   "version": "3.11.0"
  }
 },
 "nbformat": 4,
 "nbformat_minor": 2
}
